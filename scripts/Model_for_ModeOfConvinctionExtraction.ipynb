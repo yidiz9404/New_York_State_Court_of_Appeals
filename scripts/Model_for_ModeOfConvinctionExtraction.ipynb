{
 "cells": [
  {
   "cell_type": "markdown",
   "metadata": {},
   "source": [
    "**Author: Binqian Zeng**"
   ]
  },
  {
   "cell_type": "code",
   "execution_count": 1,
   "metadata": {
    "collapsed": true
   },
   "outputs": [],
   "source": [
    "import numpy as np\n",
    "import pandas as pd\n",
    "import re\n",
    "import gensim\n",
    "from collections import namedtuple\n",
    "import time"
   ]
  },
  {
   "cell_type": "markdown",
   "metadata": {},
   "source": [
    "# Train model to extract \"ModelOfConviction\" feature for each text. \n"
   ]
  },
  {
   "cell_type": "markdown",
   "metadata": {},
   "source": [
    "### Preparing Dataset"
   ]
  },
  {
   "cell_type": "code",
   "execution_count": 2,
   "metadata": {
    "collapsed": true
   },
   "outputs": [],
   "source": [
    "def _clean_text(data):\n",
    "    \"\"\"\n",
    "    Clean text data. Remove '\\n' and '\\t'\n",
    "    @data: text data read from .txt files\n",
    "    \"\"\"\n",
    "    data = ' '.join(data.copy())\n",
    "    data = data.replace('\\n', '')\n",
    "    data = data.replace('\\t', '')\n",
    "    return data \n",
    "\n",
    "def _read_text(txtpath, txtfilename):\n",
    "    \"\"\"\n",
    "    read .txt files by filenames with valid labeled ModeOfConviction \n",
    "    @txtpath: directory path of .txt files\n",
    "    @txtfilename: name of the .txt file\n",
    "    \"\"\"\n",
    "    filepathname = txtpath + txtfilename\n",
    "    # Using the newer with construct to close the file automatically.\n",
    "    with open(filepathname) as f:\n",
    "        data = f.readlines()\n",
    "        f.close()\n",
    "    return data  #return text from .txt file\n",
    "\n",
    "def _text_preprocessing(df):\n",
    "    \"\"\"\n",
    "    Data preprocessing:\n",
    "    **1. Remove special characters like \"[]\" to avoid unnecessary nosies** <br/>\n",
    "    **2. Remove words of labels \"Nonjury trial', 'plea of guilty' and 'jury verdict'**<br/>\n",
    "    **Note:** The reason of removing words of labels is to avoid being affected directly by words of labels. \n",
    "    Most of of unlabled data do not directly contain words of labels like 'nonjury trial' 'plea of guilty' or \n",
    "    'jury verdict'. \n",
    "    \n",
    "    \"\"\"\n",
    "    df = df[df['Text'].notnull()].copy()\n",
    "    df['Text'] = df['Text'].map(lambda x: x.replace('[','').replace(']','').replace(\"(\",'').replace(')',''))\n",
    "    df['Text'] = df['Text'].map(lambda x: re.sub(\" +\", ' ', x))\n",
    "    #remove label words\n",
    "    df['Text'] = df['Text'].map(lambda x: x.replace('nonjury trial','').replace('plea of guilty','').replace('jury verdict',''))\n",
    "    return df"
   ]
  },
  {
   "cell_type": "code",
   "execution_count": 3,
   "metadata": {},
   "outputs": [
    {
     "data": {
      "text/html": [
       "<div>\n",
       "<style scoped>\n",
       "    .dataframe tbody tr th:only-of-type {\n",
       "        vertical-align: middle;\n",
       "    }\n",
       "\n",
       "    .dataframe tbody tr th {\n",
       "        vertical-align: top;\n",
       "    }\n",
       "\n",
       "    .dataframe thead th {\n",
       "        text-align: right;\n",
       "    }\n",
       "</style>\n",
       "<table border=\"1\" class=\"dataframe\">\n",
       "  <thead>\n",
       "    <tr style=\"text-align: right;\">\n",
       "      <th></th>\n",
       "      <th>File</th>\n",
       "      <th>Text</th>\n",
       "      <th>ModeOfConviction</th>\n",
       "    </tr>\n",
       "  </thead>\n",
       "  <tbody>\n",
       "    <tr>\n",
       "      <th>0</th>\n",
       "      <td>2017_00030.htm.txt</td>\n",
       "      <td>People v Suazo 2017 NY Slip Op 00030 [146 AD3...</td>\n",
       "      <td>nonjury trial</td>\n",
       "    </tr>\n",
       "    <tr>\n",
       "      <th>1</th>\n",
       "      <td>2017_00033.htm.txt</td>\n",
       "      <td>People v Crawford 2017 NY Slip Op 00033 [146 ...</td>\n",
       "      <td>plea of guilty</td>\n",
       "    </tr>\n",
       "    <tr>\n",
       "      <th>2</th>\n",
       "      <td>2017_00046.htm.txt</td>\n",
       "      <td>People v Ryder 2017 NY Slip Op 00046 [146 AD3...</td>\n",
       "      <td>nonjury trial</td>\n",
       "    </tr>\n",
       "    <tr>\n",
       "      <th>3</th>\n",
       "      <td>2017_00077.htm.txt</td>\n",
       "      <td>People v Saunders 2017 NY Slip Op 00077 [146 ...</td>\n",
       "      <td>plea of guilty</td>\n",
       "    </tr>\n",
       "    <tr>\n",
       "      <th>4</th>\n",
       "      <td>2017_00134.htm.txt</td>\n",
       "      <td>People v Miller 2017 NY Slip Op 00134 [146 AD...</td>\n",
       "      <td>plea of guilty</td>\n",
       "    </tr>\n",
       "  </tbody>\n",
       "</table>\n",
       "</div>"
      ],
      "text/plain": [
       "                 File                                               Text  \\\n",
       "0  2017_00030.htm.txt   People v Suazo 2017 NY Slip Op 00030 [146 AD3...   \n",
       "1  2017_00033.htm.txt   People v Crawford 2017 NY Slip Op 00033 [146 ...   \n",
       "2  2017_00046.htm.txt   People v Ryder 2017 NY Slip Op 00046 [146 AD3...   \n",
       "3  2017_00077.htm.txt   People v Saunders 2017 NY Slip Op 00077 [146 ...   \n",
       "4  2017_00134.htm.txt   People v Miller 2017 NY Slip Op 00134 [146 AD...   \n",
       "\n",
       "  ModeOfConviction  \n",
       "0    nonjury trial  \n",
       "1   plea of guilty  \n",
       "2    nonjury trial  \n",
       "3   plea of guilty  \n",
       "4   plea of guilty  "
      ]
     },
     "metadata": {},
     "output_type": "display_data"
    },
    {
     "name": "stdout",
     "output_type": "stream",
     "text": [
      "Unique labels of Mode Of Conviction ['nonjury trial' 'plea of guilty' 'jury verdict']\n"
     ]
    }
   ],
   "source": [
    "# Read CSV\n",
    "csv_2017 = pd.read_csv(\"/Users/EricTseng/Desktop/PoliticalLab0211/ParseResult/2017.csv\", sep=',', encoding='latin-1')\n",
    "csv_2017.head()\n",
    "\n",
    "#Extract filenames with valid ModeOfConviction\n",
    "oridata = csv_2017[csv_2017['ModeOfConviction'].notnull()].copy()\n",
    "\n",
    "#Extract the pair of filename and ModeOfConviction\n",
    "\"\"\"\n",
    "@FCT_data: the data frame contains filenames, corresponding ModeOfConviction and corresponding text\n",
    "\"\"\"\n",
    "FCT_data = pd.DataFrame(columns=['File', 'Text', 'ModeOfConviction'])\n",
    "FCT_data.File = oridata['File']\n",
    "FCT_data.ModeOfConviction = oridata['ModeOfConviction']\n",
    "\n",
    "#initialize the directory path of .txt files\n",
    "txtpath = \"/Users/EricTseng/Desktop/PoliticalLab0211/NY-Appellate-Scraping/2017-09-10/courtdoc/txt/\"\n",
    "txtfilename_ls = list(FCT_data['File'])\n",
    "\n",
    "#Open text files by list of names and put text into FCT_data dataframe for preparing dataset\n",
    "Text_ls = []\n",
    "for filename in txtfilename_ls:\n",
    "    oritxt = _read_text(txtpath, filename)\n",
    "    texttxt = _clean_text(oritxt)\n",
    "    Text_ls.append(texttxt)\n",
    "\n",
    "FCT_data['Text'] = Text_ls # Store list of txt text into FCT_data\n",
    "\n",
    "FCT_data.reset_index(drop=True, inplace=True) #reset index\n",
    "\n",
    "display(FCT_data.head())\n",
    "\n",
    "print(\"Unique labels of Mode Of Conviction {}\".format(FCT_data['ModeOfConviction'].unique()))\n"
   ]
  },
  {
   "cell_type": "markdown",
   "metadata": {},
   "source": [
    "### Data Preprocessing"
   ]
  },
  {
   "cell_type": "markdown",
   "metadata": {},
   "source": [
    "**1. Remove special characters like \"[]\" to avoid unnecessary nosies** <br/>\n",
    "**2. Remove words of labels \"Nonjury trial', 'plea of guilty' and 'jury verdict'**<br/>\n",
    "**Note:** The reason of removing words of labels is to avoid being affected directly by words of labels. Most of of unlabled data do not directly contain words of labels like 'nonjury trial' 'plea of guilty' or 'jury verdict'.<br\\>\n",
    "**3. Digitizing labels, 'nonjury trial'->1; 'plea of guilty'->2; 'jury verdict'->3**"
   ]
  },
  {
   "cell_type": "code",
   "execution_count": 4,
   "metadata": {},
   "outputs": [
    {
     "data": {
      "text/html": [
       "<div>\n",
       "<style scoped>\n",
       "    .dataframe tbody tr th:only-of-type {\n",
       "        vertical-align: middle;\n",
       "    }\n",
       "\n",
       "    .dataframe tbody tr th {\n",
       "        vertical-align: top;\n",
       "    }\n",
       "\n",
       "    .dataframe thead th {\n",
       "        text-align: right;\n",
       "    }\n",
       "</style>\n",
       "<table border=\"1\" class=\"dataframe\">\n",
       "  <thead>\n",
       "    <tr style=\"text-align: right;\">\n",
       "      <th></th>\n",
       "      <th>File</th>\n",
       "      <th>Text</th>\n",
       "      <th>ModeOfConviction</th>\n",
       "      <th>Label</th>\n",
       "    </tr>\n",
       "  </thead>\n",
       "  <tbody>\n",
       "    <tr>\n",
       "      <th>0</th>\n",
       "      <td>2017_00030.htm.txt</td>\n",
       "      <td>People v Suazo 2017 NY Slip Op 00030 146 AD3d...</td>\n",
       "      <td>nonjury trial</td>\n",
       "      <td>1</td>\n",
       "    </tr>\n",
       "    <tr>\n",
       "      <th>1</th>\n",
       "      <td>2017_00033.htm.txt</td>\n",
       "      <td>People v Crawford 2017 NY Slip Op 00033 146 A...</td>\n",
       "      <td>plea of guilty</td>\n",
       "      <td>2</td>\n",
       "    </tr>\n",
       "    <tr>\n",
       "      <th>2</th>\n",
       "      <td>2017_00046.htm.txt</td>\n",
       "      <td>People v Ryder 2017 NY Slip Op 00046 146 AD3d...</td>\n",
       "      <td>nonjury trial</td>\n",
       "      <td>1</td>\n",
       "    </tr>\n",
       "    <tr>\n",
       "      <th>3</th>\n",
       "      <td>2017_00077.htm.txt</td>\n",
       "      <td>People v Saunders 2017 NY Slip Op 00077 146 A...</td>\n",
       "      <td>plea of guilty</td>\n",
       "      <td>2</td>\n",
       "    </tr>\n",
       "    <tr>\n",
       "      <th>4</th>\n",
       "      <td>2017_00134.htm.txt</td>\n",
       "      <td>People v Miller 2017 NY Slip Op 00134 146 AD3...</td>\n",
       "      <td>plea of guilty</td>\n",
       "      <td>2</td>\n",
       "    </tr>\n",
       "  </tbody>\n",
       "</table>\n",
       "</div>"
      ],
      "text/plain": [
       "                 File                                               Text  \\\n",
       "0  2017_00030.htm.txt   People v Suazo 2017 NY Slip Op 00030 146 AD3d...   \n",
       "1  2017_00033.htm.txt   People v Crawford 2017 NY Slip Op 00033 146 A...   \n",
       "2  2017_00046.htm.txt   People v Ryder 2017 NY Slip Op 00046 146 AD3d...   \n",
       "3  2017_00077.htm.txt   People v Saunders 2017 NY Slip Op 00077 146 A...   \n",
       "4  2017_00134.htm.txt   People v Miller 2017 NY Slip Op 00134 146 AD3...   \n",
       "\n",
       "  ModeOfConviction Label  \n",
       "0    nonjury trial     1  \n",
       "1   plea of guilty     2  \n",
       "2    nonjury trial     1  \n",
       "3   plea of guilty     2  \n",
       "4   plea of guilty     2  "
      ]
     },
     "metadata": {},
     "output_type": "display_data"
    }
   ],
   "source": [
    "FCT_data = _text_preprocessing(FCT_data) #preprocessing text\n",
    "FCT_data.loc[FCT_data['ModeOfConviction'] == 'nonjury trial', 'Label'] = '1'\n",
    "FCT_data.loc[FCT_data['ModeOfConviction'] == 'plea of guilty', 'Label'] = '2'\n",
    "FCT_data.loc[FCT_data['ModeOfConviction'] == 'jury verdict', 'Label'] = '3'\n",
    "\n",
    "display(FCT_data.head())"
   ]
  },
  {
   "cell_type": "markdown",
   "metadata": {},
   "source": [
    "### Doc2Vec"
   ]
  },
  {
   "cell_type": "markdown",
   "metadata": {},
   "source": [
    "Using the Doc2Vec library in Gensim to represent text for future use"
   ]
  },
  {
   "cell_type": "code",
   "execution_count": 8,
   "metadata": {},
   "outputs": [
    {
     "name": "stdout",
     "output_type": "stream",
     "text": [
      "Time for Doc2Vec cost:  23.30015802383423\n"
     ]
    }
   ],
   "source": [
    "#Time it\n",
    "startTime = time.time()\n",
    "\n",
    "rs_ls = []\n",
    "#Load Data \n",
    "for (text, label, i) in zip(FCT_data['Text'], FCT_data['ModeOfConviction'], range(0,FCT_data.shape[0])):\n",
    "    Sent_ls = text.lower().split(\".\")\n",
    "    docs = []\n",
    "    analyzedDocument = namedtuple('AnalyzedDocument', 'words tags')\n",
    "    \n",
    "    #Transform data (you can add more data preprocessing steps) \n",
    "    for Sent in Sent_ls:\n",
    "        words = Sent.split()\n",
    "        label = label\n",
    "        docs.append(analyzedDocument(words, label))\n",
    "        \n",
    "    # Train model (set min_count = 1, if you want the model to work with the provided example data set)\n",
    "    doc2vec_md = gensim.models.doc2vec.Doc2Vec(docs, size = 100, window = 300, min_count = 1, workers = 4)\n",
    "    \n",
    "    #rs_ls.append(doc2vec_md.docvecs[0])\n",
    "    rs_ls.append(doc2vec_md.docvecs[0])\n",
    "FCT_data['DocVec'] = rs_ls\n",
    "\n",
    "print(\"Time for Doc2Vec cost: \",time.time() - startTime)\n"
   ]
  },
  {
   "cell_type": "code",
   "execution_count": 9,
   "metadata": {},
   "outputs": [
    {
     "data": {
      "text/html": [
       "<div>\n",
       "<style scoped>\n",
       "    .dataframe tbody tr th:only-of-type {\n",
       "        vertical-align: middle;\n",
       "    }\n",
       "\n",
       "    .dataframe tbody tr th {\n",
       "        vertical-align: top;\n",
       "    }\n",
       "\n",
       "    .dataframe thead th {\n",
       "        text-align: right;\n",
       "    }\n",
       "</style>\n",
       "<table border=\"1\" class=\"dataframe\">\n",
       "  <thead>\n",
       "    <tr style=\"text-align: right;\">\n",
       "      <th></th>\n",
       "      <th>File</th>\n",
       "      <th>Text</th>\n",
       "      <th>ModeOfConviction</th>\n",
       "      <th>Label</th>\n",
       "      <th>DocVec</th>\n",
       "    </tr>\n",
       "  </thead>\n",
       "  <tbody>\n",
       "    <tr>\n",
       "      <th>0</th>\n",
       "      <td>2017_00030.htm.txt</td>\n",
       "      <td>People v Suazo 2017 NY Slip Op 00030 146 AD3d...</td>\n",
       "      <td>nonjury trial</td>\n",
       "      <td>1</td>\n",
       "      <td>[-0.100383, 0.0640729, -0.0230143, 0.0469773, ...</td>\n",
       "    </tr>\n",
       "    <tr>\n",
       "      <th>1</th>\n",
       "      <td>2017_00033.htm.txt</td>\n",
       "      <td>People v Crawford 2017 NY Slip Op 00033 146 A...</td>\n",
       "      <td>plea of guilty</td>\n",
       "      <td>2</td>\n",
       "      <td>[-0.00689806, -0.00291594, -0.00776605, 0.0049...</td>\n",
       "    </tr>\n",
       "    <tr>\n",
       "      <th>2</th>\n",
       "      <td>2017_00046.htm.txt</td>\n",
       "      <td>People v Ryder 2017 NY Slip Op 00046 146 AD3d...</td>\n",
       "      <td>nonjury trial</td>\n",
       "      <td>1</td>\n",
       "      <td>[-2.93095, 0.914522, -1.05463, 1.06198, -1.152...</td>\n",
       "    </tr>\n",
       "    <tr>\n",
       "      <th>3</th>\n",
       "      <td>2017_00077.htm.txt</td>\n",
       "      <td>People v Saunders 2017 NY Slip Op 00077 146 A...</td>\n",
       "      <td>plea of guilty</td>\n",
       "      <td>2</td>\n",
       "      <td>[-0.00788608, -0.00238305, -0.00857779, 0.0060...</td>\n",
       "    </tr>\n",
       "    <tr>\n",
       "      <th>4</th>\n",
       "      <td>2017_00134.htm.txt</td>\n",
       "      <td>People v Miller 2017 NY Slip Op 00134 146 AD3...</td>\n",
       "      <td>plea of guilty</td>\n",
       "      <td>2</td>\n",
       "      <td>[-0.0679377, 0.0224821, -0.0638266, 0.046354, ...</td>\n",
       "    </tr>\n",
       "  </tbody>\n",
       "</table>\n",
       "</div>"
      ],
      "text/plain": [
       "                 File                                               Text  \\\n",
       "0  2017_00030.htm.txt   People v Suazo 2017 NY Slip Op 00030 146 AD3d...   \n",
       "1  2017_00033.htm.txt   People v Crawford 2017 NY Slip Op 00033 146 A...   \n",
       "2  2017_00046.htm.txt   People v Ryder 2017 NY Slip Op 00046 146 AD3d...   \n",
       "3  2017_00077.htm.txt   People v Saunders 2017 NY Slip Op 00077 146 A...   \n",
       "4  2017_00134.htm.txt   People v Miller 2017 NY Slip Op 00134 146 AD3...   \n",
       "\n",
       "  ModeOfConviction Label                                             DocVec  \n",
       "0    nonjury trial     1  [-0.100383, 0.0640729, -0.0230143, 0.0469773, ...  \n",
       "1   plea of guilty     2  [-0.00689806, -0.00291594, -0.00776605, 0.0049...  \n",
       "2    nonjury trial     1  [-2.93095, 0.914522, -1.05463, 1.06198, -1.152...  \n",
       "3   plea of guilty     2  [-0.00788608, -0.00238305, -0.00857779, 0.0060...  \n",
       "4   plea of guilty     2  [-0.0679377, 0.0224821, -0.0638266, 0.046354, ...  "
      ]
     },
     "metadata": {},
     "output_type": "display_data"
    }
   ],
   "source": [
    "display(FCT_data.head())"
   ]
  },
  {
   "cell_type": "markdown",
   "metadata": {},
   "source": [
    "### Model Approach"
   ]
  },
  {
   "cell_type": "code",
   "execution_count": 10,
   "metadata": {},
   "outputs": [
    {
     "name": "stderr",
     "output_type": "stream",
     "text": [
      "/Users/EricTseng/anaconda/lib/python3.6/site-packages/sklearn/cross_validation.py:44: DeprecationWarning: This module was deprecated in version 0.18 in favor of the model_selection module into which all the refactored classes and functions are moved. Also note that the interface of the new CV iterators are different from that of this module. This module will be removed in 0.20.\n",
      "  \"This module will be removed in 0.20.\", DeprecationWarning)\n"
     ]
    }
   ],
   "source": [
    "from sklearn.cross_validation import train_test_split"
   ]
  },
  {
   "cell_type": "code",
   "execution_count": 11,
   "metadata": {
    "collapsed": true
   },
   "outputs": [],
   "source": [
    "X = np.array(FCT_data['DocVec'])\n",
    "y = np.array(FCT_data['Label'])\n",
    "# split into train and test\n",
    "X_train, X_test, y_train, y_test = train_test_split(X, y, test_size=0.2, random_state=42)\n",
    "X_train =  np.array([list(e) for e in X_train])\n",
    "X_test = np.array([list(e) for e in X_test])\n",
    "#y_train = np.array(list(e) for e in y_train)\n",
    "#y_test = np.array(list(e) for e in y_test)"
   ]
  },
  {
   "cell_type": "markdown",
   "metadata": {},
   "source": [
    "#### K-neighbours"
   ]
  },
  {
   "cell_type": "code",
   "execution_count": 12,
   "metadata": {
    "collapsed": true
   },
   "outputs": [],
   "source": [
    "from sklearn.neighbors import KNeighborsClassifier\n",
    "from sklearn.metrics import accuracy_score\n"
   ]
  },
  {
   "cell_type": "code",
   "execution_count": 26,
   "metadata": {},
   "outputs": [
    {
     "name": "stdout",
     "output_type": "stream",
     "text": [
      "The accuracy for the K-neighbours model is : 1.0\n"
     ]
    }
   ],
   "source": [
    "# instantiate learning model (k = 3)\n",
    "knn = KNeighborsClassifier(n_neighbors=5)\n",
    "# fitting the model\n",
    "knn.fit(X_train, y_train)\n",
    "# predict the response\n",
    "pred = knn.predict(X_test)\n",
    "\n",
    "# evaluate accuracy\n",
    "print (\"The accuracy for the K-neighbours model is : {}\".format(accuracy_score(y_test, pred)))"
   ]
  },
  {
   "cell_type": "markdown",
   "metadata": {},
   "source": [
    "**Definitly some bug here or this approach is not appropriate. No model's accuracy can reach 100%. However, not enough time to find where mistakes are.**\n",
    "\n",
    "The K-nearest neighbours approach is based on the thoughts that similar documents should be close to each other. "
   ]
  },
  {
   "cell_type": "markdown",
   "metadata": {},
   "source": [
    "### Future Work "
   ]
  },
  {
   "cell_type": "markdown",
   "metadata": {},
   "source": [
    "**Thoughts from different perspectives are described below:**\n",
    "\n",
    "**Representation:**<br/>\n",
    "1. PMI(Pointwise mutual information) can be used as good representation of words.\n",
    "2. GloVe can be used as good representation of words. \n",
    "\n",
    "**Model:**<br/>\n",
    "1. Neural Network with attention mechanism and RNN are helpful for understanding the text\n",
    "2. Classification with appropriate kernel function will be helpful to capture high-dimentioanal features.\n",
    "\n"
   ]
  },
  {
   "cell_type": "code",
   "execution_count": null,
   "metadata": {
    "collapsed": true
   },
   "outputs": [],
   "source": []
  }
 ],
 "metadata": {
  "kernelspec": {
   "display_name": "Python 3",
   "language": "python",
   "name": "python3"
  },
  "language_info": {
   "codemirror_mode": {
    "name": "ipython",
    "version": 3
   },
   "file_extension": ".py",
   "mimetype": "text/x-python",
   "name": "python",
   "nbconvert_exporter": "python",
   "pygments_lexer": "ipython3",
   "version": "3.6.0"
  }
 },
 "nbformat": 4,
 "nbformat_minor": 2
}
